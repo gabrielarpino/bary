{
 "cells": [
  {
   "cell_type": "markdown",
   "metadata": {},
   "source": [
    "Calculate the Wasserstein Barycenter and compares with the model average. "
   ]
  },
  {
   "cell_type": "markdown",
   "metadata": {},
   "source": [
    "Plan: \n",
    "    1. Different means as priors, and how that changes\n",
    "    2. Different hyperparameter priors (changing frequencies etc), and how that changes"
   ]
  },
  {
   "cell_type": "code",
   "execution_count": 1,
   "metadata": {},
   "outputs": [],
   "source": [
    "import gpflow\n",
    "# Pandas and numpy for data manipulation\n",
    "import pandas as pd\n",
    "import numpy as np\n",
    "# matplotlib for plotting\n",
    "import matplotlib.pyplot as plt\n",
    "import matplotlib\n",
    "\n",
    "# Set text size\n",
    "matplotlib.rcParams['font.size'] = 18\n",
    "\n",
    "# Seaborn for pairplots\n",
    "import seaborn as sns\n",
    "\n",
    "sns.set_context('talk', font_scale=1.2);\n",
    "from sklearn import preprocessing"
   ]
  },
  {
   "cell_type": "code",
   "execution_count": 2,
   "metadata": {},
   "outputs": [
    {
     "data": {
      "text/plain": [
       "<matplotlib.collections.PathCollection at 0x149b456d8>"
      ]
     },
     "execution_count": 2,
     "metadata": {},
     "output_type": "execute_result"
    },
    {
     "data": {
      "image/png": "[encoded data removed]",
      "text/plain": [
       "<Figure size 432x288 with 1 Axes>"
      ]
     },
     "metadata": {
      "needs_background": "light"
     },
     "output_type": "display_data"
    }
   ],
   "source": [
    "# Generate sample data from known GP\n",
    "N = 12\n",
    "N_predict = 4\n",
    "predict_distance = 0.2\n",
    "X = np.random.rand(N,1)\n",
    "X_predict = 1.0 + np.random.rand(N_predict,1)*predict_distance\n",
    "X_full = np.vstack((X, X_predict))\n",
    "# Y = np.sin(12*X) + 0.66*np.cos(25*X) + np.random.randn(N,1)*0.01 + 3\n",
    "Y = np.sin(12*X) + np.random.randn(N,1)*0.01 + 3\n",
    "Y_predict = np.sin(12*X_predict) + np.random.randn(N_predict,1)*0.01 + 3\n",
    "plt.plot(X, Y, 'kx', mew=2)\n",
    "plt.scatter(X_predict, Y_predict)"
   ]
  },
  {
   "cell_type": "code",
   "execution_count": 12,
   "metadata": {},
   "outputs": [
    {
     "ename": "ValueError",
     "evalue": "Attempt to convert a value (<gpflow.mean_functions.Linear object at 0x149d06860>) with an unsupported type (<class 'gpflow.mean_functions.Linear'>) to a Tensor.",
     "output_type": "error",
     "traceback": [
      "\u001b[0;31m---------------------------------------------------------------------------\u001b[0m",
      "\u001b[0;31mValueError\u001b[0m                                Traceback (most recent call last)",
      "\u001b[0;32m<ipython-input-12-a4c0efe8ac64>\u001b[0m in \u001b[0;36m<module>\u001b[0;34m\u001b[0m\n\u001b[1;32m      5\u001b[0m \u001b[0mktotal\u001b[0m \u001b[0;34m=\u001b[0m \u001b[0mk1\u001b[0m\u001b[0;34m\u001b[0m\u001b[0;34m\u001b[0m\u001b[0m\n\u001b[1;32m      6\u001b[0m \u001b[0mmeanf1\u001b[0m \u001b[0;34m=\u001b[0m \u001b[0mgpflow\u001b[0m\u001b[0;34m.\u001b[0m\u001b[0mmean_functions\u001b[0m\u001b[0;34m.\u001b[0m\u001b[0mLinear\u001b[0m\u001b[0;34m(\u001b[0m\u001b[0;36m10\u001b[0m\u001b[0;34m,\u001b[0m\u001b[0;36m1\u001b[0m\u001b[0;34m)\u001b[0m\u001b[0;34m\u001b[0m\u001b[0;34m\u001b[0m\u001b[0m\n\u001b[0;32m----> 7\u001b[0;31m \u001b[0mm1\u001b[0m \u001b[0;34m=\u001b[0m \u001b[0mgpflow\u001b[0m\u001b[0;34m.\u001b[0m\u001b[0mmodels\u001b[0m\u001b[0;34m.\u001b[0m\u001b[0mGPR\u001b[0m\u001b[0;34m(\u001b[0m\u001b[0mX\u001b[0m\u001b[0;34m,\u001b[0m \u001b[0mY\u001b[0m\u001b[0;34m,\u001b[0m \u001b[0mktotal\u001b[0m\u001b[0;34m,\u001b[0m \u001b[0mmeanf1\u001b[0m\u001b[0;34m)\u001b[0m\u001b[0;34m\u001b[0m\u001b[0;34m\u001b[0m\u001b[0m\n\u001b[0m\u001b[1;32m      8\u001b[0m \u001b[0mm1\u001b[0m\u001b[0;34m.\u001b[0m\u001b[0mlikelihood\u001b[0m\u001b[0;34m.\u001b[0m\u001b[0mvariance\u001b[0m \u001b[0;34m=\u001b[0m \u001b[0;36m0.01\u001b[0m\u001b[0;34m\u001b[0m\u001b[0;34m\u001b[0m\u001b[0m\n",
      "\u001b[0;32m/anaconda3/lib/python3.6/site-packages/gpflow/models/gpr.py\u001b[0m in \u001b[0;36m__init__\u001b[0;34m(self, data, kernel, mean_function, noise_variance)\u001b[0m\n\u001b[1;32m     43\u001b[0m     def __init__(self, data: Data, kernel: Kernel, mean_function: Optional[MeanFunction] = None,\n\u001b[1;32m     44\u001b[0m                  noise_variance: float = 1.0):\n\u001b[0;32m---> 45\u001b[0;31m         \u001b[0mlikelihood\u001b[0m \u001b[0;34m=\u001b[0m \u001b[0mgpflow\u001b[0m\u001b[0;34m.\u001b[0m\u001b[0mlikelihoods\u001b[0m\u001b[0;34m.\u001b[0m\u001b[0mGaussian\u001b[0m\u001b[0;34m(\u001b[0m\u001b[0mnoise_variance\u001b[0m\u001b[0;34m)\u001b[0m\u001b[0;34m\u001b[0m\u001b[0;34m\u001b[0m\u001b[0m\n\u001b[0m\u001b[1;32m     46\u001b[0m         \u001b[0m_\u001b[0m\u001b[0;34m,\u001b[0m \u001b[0my_data\u001b[0m \u001b[0;34m=\u001b[0m \u001b[0mdata\u001b[0m\u001b[0;34m\u001b[0m\u001b[0;34m\u001b[0m\u001b[0m\n\u001b[1;32m     47\u001b[0m         \u001b[0msuper\u001b[0m\u001b[0;34m(\u001b[0m\u001b[0;34m)\u001b[0m\u001b[0;34m.\u001b[0m\u001b[0m__init__\u001b[0m\u001b[0;34m(\u001b[0m\u001b[0mkernel\u001b[0m\u001b[0;34m,\u001b[0m \u001b[0mlikelihood\u001b[0m\u001b[0;34m,\u001b[0m \u001b[0mmean_function\u001b[0m\u001b[0;34m,\u001b[0m \u001b[0mnum_latent\u001b[0m\u001b[0;34m=\u001b[0m\u001b[0my_data\u001b[0m\u001b[0;34m.\u001b[0m\u001b[0mshape\u001b[0m\u001b[0;34m[\u001b[0m\u001b[0;34m-\u001b[0m\u001b[0;36m1\u001b[0m\u001b[0;34m]\u001b[0m\u001b[0;34m)\u001b[0m\u001b[0;34m\u001b[0m\u001b[0;34m\u001b[0m\u001b[0m\n",
      "\u001b[0;32m/anaconda3/lib/python3.6/site-packages/gpflow/likelihoods/likelihoods.py\u001b[0m in \u001b[0;36m__init__\u001b[0;34m(self, variance, variance_lower_bound, **kwargs)\u001b[0m\n\u001b[1;32m    167\u001b[0m     \u001b[0;32mdef\u001b[0m \u001b[0m__init__\u001b[0m\u001b[0;34m(\u001b[0m\u001b[0mself\u001b[0m\u001b[0;34m,\u001b[0m \u001b[0mvariance\u001b[0m\u001b[0;34m=\u001b[0m\u001b[0;36m1.0\u001b[0m\u001b[0;34m,\u001b[0m \u001b[0mvariance_lower_bound\u001b[0m\u001b[0;34m=\u001b[0m\u001b[0;36m1e-6\u001b[0m\u001b[0;34m,\u001b[0m \u001b[0;34m**\u001b[0m\u001b[0mkwargs\u001b[0m\u001b[0;34m)\u001b[0m\u001b[0;34m:\u001b[0m\u001b[0;34m\u001b[0m\u001b[0;34m\u001b[0m\u001b[0m\n\u001b[1;32m    168\u001b[0m         \u001b[0msuper\u001b[0m\u001b[0;34m(\u001b[0m\u001b[0;34m)\u001b[0m\u001b[0;34m.\u001b[0m\u001b[0m__init__\u001b[0m\u001b[0;34m(\u001b[0m\u001b[0;34m**\u001b[0m\u001b[0mkwargs\u001b[0m\u001b[0;34m)\u001b[0m\u001b[0;34m\u001b[0m\u001b[0;34m\u001b[0m\u001b[0m\n\u001b[0;32m--> 169\u001b[0;31m         \u001b[0mself\u001b[0m\u001b[0;34m.\u001b[0m\u001b[0mvariance\u001b[0m \u001b[0;34m=\u001b[0m \u001b[0mParameter\u001b[0m\u001b[0;34m(\u001b[0m\u001b[0mvariance\u001b[0m\u001b[0;34m,\u001b[0m \u001b[0mtransform\u001b[0m\u001b[0;34m=\u001b[0m\u001b[0mpositive\u001b[0m\u001b[0;34m(\u001b[0m\u001b[0mlower\u001b[0m\u001b[0;34m=\u001b[0m\u001b[0mvariance_lower_bound\u001b[0m\u001b[0;34m)\u001b[0m\u001b[0;34m)\u001b[0m\u001b[0;34m\u001b[0m\u001b[0;34m\u001b[0m\u001b[0m\n\u001b[0m\u001b[1;32m    170\u001b[0m \u001b[0;34m\u001b[0m\u001b[0m\n\u001b[1;32m    171\u001b[0m     \u001b[0;32mdef\u001b[0m \u001b[0mlog_prob\u001b[0m\u001b[0;34m(\u001b[0m\u001b[0mself\u001b[0m\u001b[0;34m,\u001b[0m \u001b[0mF\u001b[0m\u001b[0;34m,\u001b[0m \u001b[0mY\u001b[0m\u001b[0;34m)\u001b[0m\u001b[0;34m:\u001b[0m\u001b[0;34m\u001b[0m\u001b[0;34m\u001b[0m\u001b[0m\n",
      "\u001b[0;32m/anaconda3/lib/python3.6/site-packages/gpflow/base.py\u001b[0m in \u001b[0;36m__init__\u001b[0;34m(self, value, transform, prior, prior_on, trainable, dtype, name)\u001b[0m\n\u001b[1;32m     74\u001b[0m             \u001b[0mself\u001b[0m\u001b[0;34m.\u001b[0m\u001b[0m_unconstrained\u001b[0m \u001b[0;34m=\u001b[0m \u001b[0mvalue\u001b[0m\u001b[0;34m\u001b[0m\u001b[0;34m\u001b[0m\u001b[0m\n\u001b[1;32m     75\u001b[0m         \u001b[0;32melse\u001b[0m\u001b[0;34m:\u001b[0m\u001b[0;34m\u001b[0m\u001b[0;34m\u001b[0m\u001b[0m\n\u001b[0;32m---> 76\u001b[0;31m             \u001b[0munconstrained_value\u001b[0m \u001b[0;34m=\u001b[0m \u001b[0mself\u001b[0m\u001b[0;34m.\u001b[0m\u001b[0mvalidate_unconstrained_value\u001b[0m\u001b[0;34m(\u001b[0m\u001b[0mvalue\u001b[0m\u001b[0;34m,\u001b[0m \u001b[0mdtype\u001b[0m\u001b[0;34m)\u001b[0m\u001b[0;34m\u001b[0m\u001b[0;34m\u001b[0m\u001b[0m\n\u001b[0m\u001b[1;32m     77\u001b[0m             self._unconstrained = tf.Variable(unconstrained_value,\n\u001b[1;32m     78\u001b[0m                                               dtype=dtype, name=name, trainable=trainable)\n",
      "\u001b[0;32m/anaconda3/lib/python3.6/site-packages/gpflow/base.py\u001b[0m in \u001b[0;36mvalidate_unconstrained_value\u001b[0;34m(self, value, dtype)\u001b[0m\n\u001b[1;32m    141\u001b[0m \u001b[0;34m\u001b[0m\u001b[0m\n\u001b[1;32m    142\u001b[0m     \u001b[0;32mdef\u001b[0m \u001b[0mvalidate_unconstrained_value\u001b[0m\u001b[0;34m(\u001b[0m\u001b[0mself\u001b[0m\u001b[0;34m,\u001b[0m \u001b[0mvalue\u001b[0m\u001b[0;34m:\u001b[0m \u001b[0mtf\u001b[0m\u001b[0;34m.\u001b[0m\u001b[0mTensor\u001b[0m\u001b[0;34m,\u001b[0m \u001b[0mdtype\u001b[0m\u001b[0;34m:\u001b[0m \u001b[0mDType\u001b[0m\u001b[0;34m)\u001b[0m \u001b[0;34m->\u001b[0m \u001b[0mtf\u001b[0m\u001b[0;34m.\u001b[0m\u001b[0mTensor\u001b[0m\u001b[0;34m:\u001b[0m\u001b[0;34m\u001b[0m\u001b[0;34m\u001b[0m\u001b[0m\n\u001b[0;32m--> 143\u001b[0;31m         \u001b[0mvalue\u001b[0m \u001b[0;34m=\u001b[0m \u001b[0m_cast_to_dtype\u001b[0m\u001b[0;34m(\u001b[0m\u001b[0mvalue\u001b[0m\u001b[0;34m,\u001b[0m \u001b[0mdtype\u001b[0m\u001b[0;34m)\u001b[0m\u001b[0;34m\u001b[0m\u001b[0;34m\u001b[0m\u001b[0m\n\u001b[0m\u001b[1;32m    144\u001b[0m         \u001b[0munconstrained_value\u001b[0m \u001b[0;34m=\u001b[0m \u001b[0m_to_unconstrained\u001b[0m\u001b[0;34m(\u001b[0m\u001b[0mvalue\u001b[0m\u001b[0;34m,\u001b[0m \u001b[0mself\u001b[0m\u001b[0;34m.\u001b[0m\u001b[0mtransform\u001b[0m\u001b[0;34m)\u001b[0m\u001b[0;34m\u001b[0m\u001b[0;34m\u001b[0m\u001b[0m\n\u001b[1;32m    145\u001b[0m         \u001b[0mmessage\u001b[0m \u001b[0;34m=\u001b[0m \u001b[0;34m\"gpflow.Parameter: unconstrained value of passed value \"\u001b[0m\u001b[0;31m \u001b[0m\u001b[0;31m\\\u001b[0m\u001b[0;34m\u001b[0m\u001b[0;34m\u001b[0m\u001b[0m\n",
      "\u001b[0;32m/anaconda3/lib/python3.6/site-packages/gpflow/base.py\u001b[0m in \u001b[0;36m_cast_to_dtype\u001b[0;34m(value, dtype)\u001b[0m\n\u001b[1;32m    289\u001b[0m         \u001b[0;32mreturn\u001b[0m \u001b[0mtf\u001b[0m\u001b[0;34m.\u001b[0m\u001b[0mcast\u001b[0m\u001b[0;34m(\u001b[0m\u001b[0mvalue\u001b[0m\u001b[0;34m,\u001b[0m \u001b[0mdtype\u001b[0m\u001b[0;34m)\u001b[0m\u001b[0;34m\u001b[0m\u001b[0;34m\u001b[0m\u001b[0m\n\u001b[1;32m    290\u001b[0m     \u001b[0;32melse\u001b[0m\u001b[0;34m:\u001b[0m\u001b[0;34m\u001b[0m\u001b[0;34m\u001b[0m\u001b[0m\n\u001b[0;32m--> 291\u001b[0;31m         \u001b[0;32mreturn\u001b[0m \u001b[0mtf\u001b[0m\u001b[0;34m.\u001b[0m\u001b[0mconvert_to_tensor\u001b[0m\u001b[0;34m(\u001b[0m\u001b[0mvalue\u001b[0m\u001b[0;34m,\u001b[0m \u001b[0mdtype\u001b[0m\u001b[0;34m)\u001b[0m\u001b[0;34m\u001b[0m\u001b[0;34m\u001b[0m\u001b[0m\n\u001b[0m\u001b[1;32m    292\u001b[0m \u001b[0;34m\u001b[0m\u001b[0m\n\u001b[1;32m    293\u001b[0m \u001b[0;34m\u001b[0m\u001b[0m\n",
      "\u001b[0;32m/anaconda3/lib/python3.6/site-packages/tensorflow_core/python/framework/ops.py\u001b[0m in \u001b[0;36mconvert_to_tensor_v2\u001b[0;34m(value, dtype, dtype_hint, name)\u001b[0m\n\u001b[1;32m   1254\u001b[0m       \u001b[0mname\u001b[0m\u001b[0;34m=\u001b[0m\u001b[0mname\u001b[0m\u001b[0;34m,\u001b[0m\u001b[0;34m\u001b[0m\u001b[0;34m\u001b[0m\u001b[0m\n\u001b[1;32m   1255\u001b[0m       \u001b[0mpreferred_dtype\u001b[0m\u001b[0;34m=\u001b[0m\u001b[0mdtype_hint\u001b[0m\u001b[0;34m,\u001b[0m\u001b[0;34m\u001b[0m\u001b[0;34m\u001b[0m\u001b[0m\n\u001b[0;32m-> 1256\u001b[0;31m       as_ref=False)\n\u001b[0m\u001b[1;32m   1257\u001b[0m \u001b[0;34m\u001b[0m\u001b[0m\n\u001b[1;32m   1258\u001b[0m \u001b[0;34m\u001b[0m\u001b[0m\n",
      "\u001b[0;32m/anaconda3/lib/python3.6/site-packages/tensorflow_core/python/framework/ops.py\u001b[0m in \u001b[0;36mconvert_to_tensor\u001b[0;34m(value, dtype, name, as_ref, preferred_dtype, dtype_hint, ctx, accepted_result_types)\u001b[0m\n\u001b[1;32m   1312\u001b[0m \u001b[0;34m\u001b[0m\u001b[0m\n\u001b[1;32m   1313\u001b[0m     \u001b[0;32mif\u001b[0m \u001b[0mret\u001b[0m \u001b[0;32mis\u001b[0m \u001b[0;32mNone\u001b[0m\u001b[0;34m:\u001b[0m\u001b[0;34m\u001b[0m\u001b[0;34m\u001b[0m\u001b[0m\n\u001b[0;32m-> 1314\u001b[0;31m       \u001b[0mret\u001b[0m \u001b[0;34m=\u001b[0m \u001b[0mconversion_func\u001b[0m\u001b[0;34m(\u001b[0m\u001b[0mvalue\u001b[0m\u001b[0;34m,\u001b[0m \u001b[0mdtype\u001b[0m\u001b[0;34m=\u001b[0m\u001b[0mdtype\u001b[0m\u001b[0;34m,\u001b[0m \u001b[0mname\u001b[0m\u001b[0;34m=\u001b[0m\u001b[0mname\u001b[0m\u001b[0;34m,\u001b[0m \u001b[0mas_ref\u001b[0m\u001b[0;34m=\u001b[0m\u001b[0mas_ref\u001b[0m\u001b[0;34m)\u001b[0m\u001b[0;34m\u001b[0m\u001b[0;34m\u001b[0m\u001b[0m\n\u001b[0m\u001b[1;32m   1315\u001b[0m \u001b[0;34m\u001b[0m\u001b[0m\n\u001b[1;32m   1316\u001b[0m     \u001b[0;32mif\u001b[0m \u001b[0mret\u001b[0m \u001b[0;32mis\u001b[0m \u001b[0mNotImplemented\u001b[0m\u001b[0;34m:\u001b[0m\u001b[0;34m\u001b[0m\u001b[0;34m\u001b[0m\u001b[0m\n",
      "\u001b[0;32m/anaconda3/lib/python3.6/site-packages/tensorflow_core/python/framework/constant_op.py\u001b[0m in \u001b[0;36m_constant_tensor_conversion_function\u001b[0;34m(v, dtype, name, as_ref)\u001b[0m\n\u001b[1;32m    315\u001b[0m                                          as_ref=False):\n\u001b[1;32m    316\u001b[0m   \u001b[0m_\u001b[0m \u001b[0;34m=\u001b[0m \u001b[0mas_ref\u001b[0m\u001b[0;34m\u001b[0m\u001b[0;34m\u001b[0m\u001b[0m\n\u001b[0;32m--> 317\u001b[0;31m   \u001b[0;32mreturn\u001b[0m \u001b[0mconstant\u001b[0m\u001b[0;34m(\u001b[0m\u001b[0mv\u001b[0m\u001b[0;34m,\u001b[0m \u001b[0mdtype\u001b[0m\u001b[0;34m=\u001b[0m\u001b[0mdtype\u001b[0m\u001b[0;34m,\u001b[0m \u001b[0mname\u001b[0m\u001b[0;34m=\u001b[0m\u001b[0mname\u001b[0m\u001b[0;34m)\u001b[0m\u001b[0;34m\u001b[0m\u001b[0;34m\u001b[0m\u001b[0m\n\u001b[0m\u001b[1;32m    318\u001b[0m \u001b[0;34m\u001b[0m\u001b[0m\n\u001b[1;32m    319\u001b[0m \u001b[0;34m\u001b[0m\u001b[0m\n",
      "\u001b[0;32m/anaconda3/lib/python3.6/site-packages/tensorflow_core/python/framework/constant_op.py\u001b[0m in \u001b[0;36mconstant\u001b[0;34m(value, dtype, shape, name)\u001b[0m\n\u001b[1;32m    256\u001b[0m   \"\"\"\n\u001b[1;32m    257\u001b[0m   return _constant_impl(value, dtype, shape, name, verify_shape=False,\n\u001b[0;32m--> 258\u001b[0;31m                         allow_broadcast=True)\n\u001b[0m\u001b[1;32m    259\u001b[0m \u001b[0;34m\u001b[0m\u001b[0m\n\u001b[1;32m    260\u001b[0m \u001b[0;34m\u001b[0m\u001b[0m\n",
      "\u001b[0;32m/anaconda3/lib/python3.6/site-packages/tensorflow_core/python/framework/constant_op.py\u001b[0m in \u001b[0;36m_constant_impl\u001b[0;34m(value, dtype, shape, name, verify_shape, allow_broadcast)\u001b[0m\n\u001b[1;32m    264\u001b[0m   \u001b[0mctx\u001b[0m \u001b[0;34m=\u001b[0m \u001b[0mcontext\u001b[0m\u001b[0;34m.\u001b[0m\u001b[0mcontext\u001b[0m\u001b[0;34m(\u001b[0m\u001b[0;34m)\u001b[0m\u001b[0;34m\u001b[0m\u001b[0;34m\u001b[0m\u001b[0m\n\u001b[1;32m    265\u001b[0m   \u001b[0;32mif\u001b[0m \u001b[0mctx\u001b[0m\u001b[0;34m.\u001b[0m\u001b[0mexecuting_eagerly\u001b[0m\u001b[0;34m(\u001b[0m\u001b[0;34m)\u001b[0m\u001b[0;34m:\u001b[0m\u001b[0;34m\u001b[0m\u001b[0;34m\u001b[0m\u001b[0m\n\u001b[0;32m--> 266\u001b[0;31m     \u001b[0mt\u001b[0m \u001b[0;34m=\u001b[0m \u001b[0mconvert_to_eager_tensor\u001b[0m\u001b[0;34m(\u001b[0m\u001b[0mvalue\u001b[0m\u001b[0;34m,\u001b[0m \u001b[0mctx\u001b[0m\u001b[0;34m,\u001b[0m \u001b[0mdtype\u001b[0m\u001b[0;34m)\u001b[0m\u001b[0;34m\u001b[0m\u001b[0;34m\u001b[0m\u001b[0m\n\u001b[0m\u001b[1;32m    267\u001b[0m     \u001b[0;32mif\u001b[0m \u001b[0mshape\u001b[0m \u001b[0;32mis\u001b[0m \u001b[0;32mNone\u001b[0m\u001b[0;34m:\u001b[0m\u001b[0;34m\u001b[0m\u001b[0;34m\u001b[0m\u001b[0m\n\u001b[1;32m    268\u001b[0m       \u001b[0;32mreturn\u001b[0m \u001b[0mt\u001b[0m\u001b[0;34m\u001b[0m\u001b[0;34m\u001b[0m\u001b[0m\n",
      "\u001b[0;32m/anaconda3/lib/python3.6/site-packages/tensorflow_core/python/framework/constant_op.py\u001b[0m in \u001b[0;36mconvert_to_eager_tensor\u001b[0;34m(value, ctx, dtype)\u001b[0m\n\u001b[1;32m     94\u001b[0m       \u001b[0mdtype\u001b[0m \u001b[0;34m=\u001b[0m \u001b[0mdtypes\u001b[0m\u001b[0;34m.\u001b[0m\u001b[0mas_dtype\u001b[0m\u001b[0;34m(\u001b[0m\u001b[0mdtype\u001b[0m\u001b[0;34m)\u001b[0m\u001b[0;34m.\u001b[0m\u001b[0mas_datatype_enum\u001b[0m\u001b[0;34m\u001b[0m\u001b[0;34m\u001b[0m\u001b[0m\n\u001b[1;32m     95\u001b[0m   \u001b[0mctx\u001b[0m\u001b[0;34m.\u001b[0m\u001b[0mensure_initialized\u001b[0m\u001b[0;34m(\u001b[0m\u001b[0;34m)\u001b[0m\u001b[0;34m\u001b[0m\u001b[0;34m\u001b[0m\u001b[0m\n\u001b[0;32m---> 96\u001b[0;31m   \u001b[0;32mreturn\u001b[0m \u001b[0mops\u001b[0m\u001b[0;34m.\u001b[0m\u001b[0mEagerTensor\u001b[0m\u001b[0;34m(\u001b[0m\u001b[0mvalue\u001b[0m\u001b[0;34m,\u001b[0m \u001b[0mctx\u001b[0m\u001b[0;34m.\u001b[0m\u001b[0mdevice_name\u001b[0m\u001b[0;34m,\u001b[0m \u001b[0mdtype\u001b[0m\u001b[0;34m)\u001b[0m\u001b[0;34m\u001b[0m\u001b[0;34m\u001b[0m\u001b[0m\n\u001b[0m\u001b[1;32m     97\u001b[0m \u001b[0;34m\u001b[0m\u001b[0m\n\u001b[1;32m     98\u001b[0m \u001b[0;34m\u001b[0m\u001b[0m\n",
      "\u001b[0;31mValueError\u001b[0m: Attempt to convert a value (<gpflow.mean_functions.Linear object at 0x149d06860>) with an unsupported type (<class 'gpflow.mean_functions.Linear'>) to a Tensor."
     ]
    }
   ],
   "source": [
    "# GP 1 with a specific mean function prior\n",
    "\n",
    "k1 = gpflow.kernels.SquaredExponential(lengthscale=0.1) * gpflow.kernels.Periodic(period = 12.0, lengthscales=0.2)\n",
    "ktotal = k1\n",
    "meanf1 = gpflow.mean_functions.Linear(10,1)\n",
    "m1 = gpflow.models.GPR(X, Y, ktotal, meanf1)\n",
    "m1.likelihood.variance = 0.01\n"
   ]
  },
  {
   "cell_type": "code",
   "execution_count": null,
   "metadata": {},
   "outputs": [],
   "source": [
    "def plot(m, xx):\n",
    "    mean, var = m.predict_y(xx)\n",
    "    plt.figure(figsize=(12, 6))\n",
    "    plt.plot(X, Y, 'kx', mew=2)\n",
    "    plt.plot(xx, mean, 'C0', lw=2)\n",
    "    plt.fill_between(xx[:,0],\n",
    "                     mean[:,0] - 2*np.sqrt(var[:,0]),\n",
    "                     mean[:,0] + 2*np.sqrt(var[:,0]),\n",
    "                     color='C0', alpha=0.2)\n",
    "#     plt.xlim(-0.1, 1.1)\n",
    "\n",
    "xx = np.linspace(-0.1, 1.1, 100).reshape(100, 1)\n",
    "plot(m1, xx)\n",
    "plt.scatter(X_predict, Y_predict)"
   ]
  },
  {
   "cell_type": "code",
   "execution_count": null,
   "metadata": {},
   "outputs": [],
   "source": [
    "# GP model 2\n",
    "\n",
    "k2 = gpflow.kernels.RBF(lengthscales=0.1, input_dim = 1) * gpflow.kernels.Periodic(period = 12.0, lengthscales=0.2, input_dim = 1)\n",
    "ktotal2 = k2\n",
    "meanf2 = gpflow.mean_functions.Linear(-10,1)\n",
    "m2 = gpflow.models.GPR(X, Y, ktotal2, meanf2)\n",
    "m2.likelihood.variance = 0.01"
   ]
  },
  {
   "cell_type": "code",
   "execution_count": null,
   "metadata": {},
   "outputs": [],
   "source": [
    "\n",
    "def plot(m, xx):\n",
    "    mean, var = m.predict_y(xx)\n",
    "    plt.figure(figsize=(12, 6))\n",
    "    plt.plot(X, Y, 'kx', mew=2)\n",
    "    plt.plot(xx, mean, 'C0', lw=2)\n",
    "    plt.fill_between(xx[:,0],\n",
    "                     mean[:,0] - 2*np.sqrt(var[:,0]),\n",
    "                     mean[:,0] + 2*np.sqrt(var[:,0]),\n",
    "                     color='C0', alpha=0.2)\n",
    "#     plt.xlim(-0.1, 1.1)\n",
    "\n",
    "xx = np.linspace(-0.1, 1.1, 100).reshape(100, 1)\n",
    "plot(m2, xx)\n",
    "plt.scatter(X_predict, Y_predict)"
   ]
  },
  {
   "cell_type": "markdown",
   "metadata": {},
   "source": [
    "# Now, find the model average, compute $\\int{p(f^*|M)p(M)dM}$ using monte carlo"
   ]
  },
  {
   "cell_type": "code",
   "execution_count": null,
   "metadata": {},
   "outputs": [],
   "source": [
    "N_samp = 80\n",
    "samps1 = m1.predict_f_samples(xx, N_samp).reshape(N_samp, len(xx))\n",
    "samps2 = m2.predict_f_samples(xx, N_samp).reshape(N_samp, len(xx))\n"
   ]
  },
  {
   "cell_type": "code",
   "execution_count": null,
   "metadata": {},
   "outputs": [],
   "source": [
    "notavg = (samps1 + samps2)/2\n",
    "\n",
    "plt.plot(xx, notavg.T, c='g')\n",
    "plt.scatter(X_predict, Y_predict)\n",
    "\n",
    "plt.plot(xx, samps1.T);\n",
    "plt.plot(xx, samps2.T);"
   ]
  },
  {
   "cell_type": "code",
   "execution_count": null,
   "metadata": {},
   "outputs": [],
   "source": [
    "m1.kern.compute_K(xx, xx)\n",
    "m2.kern.compute_K(xx, xx)"
   ]
  },
  {
   "cell_type": "markdown",
   "metadata": {},
   "source": [
    "# Now just have to calculate GP barycenter and sample/plot this new gp! (copy the julia code)"
   ]
  },
  {
   "cell_type": "code",
   "execution_count": null,
   "metadata": {},
   "outputs": [],
   "source": [
    "newxx = np.linspace(-0.1, 1.1, 50).reshape(50, 1)\n",
    "me1, k1 = m1.predict_f_full_cov(xx)\n",
    "k1 = k1.reshape(100, 100)\n",
    "me2, k2 = m2.predict_f_full_cov(xx)\n",
    "k2 = k2.reshape(100, 100)\n",
    "kerns = [k1, k2]\n",
    "# means = \n",
    "mean1, var = m1.predict_y(xx)\n",
    "mean2, var = m2.predict_y(xx)\n",
    "means = [mean1, mean2]"
   ]
  },
  {
   "cell_type": "code",
   "execution_count": null,
   "metadata": {},
   "outputs": [],
   "source": [
    "def barycenter(means, kerns, N = 100):\n",
    "\n",
    "    x = np.linspace(0., 1., N)\n",
    "\n",
    "    xi = 1/len(kerns)\n",
    "\n",
    "    # Calculate the barycenter mean\n",
    "    # mm = lambda dist: np.mean(dist, x)\n",
    "    mbar = sum([xi*meen for meen in means])\n",
    "\n",
    "    # Calculate the barycenter covariance matrix`\n",
    "    Kbar = np.random.rand(N, N)\n",
    "    update = lambda kern, Kbar2, xi: xi * np.sqrt(Kbar2 * kern * Kbar2)\n",
    "\n",
    "    T = 10000\n",
    "    for t in range(1, T):\n",
    "        Kbar2 = np.sqrt(Kbar)\n",
    "        Kbar = np.sum([update(kern, Kbar2, xi) for kern in kerns], axis = 0)\n",
    "    \n",
    "    return mbar, Kbar"
   ]
  },
  {
   "cell_type": "code",
   "execution_count": null,
   "metadata": {},
   "outputs": [],
   "source": [
    "mbar, Kbar = barycenter(means, kerns, N = 100)"
   ]
  },
  {
   "cell_type": "code",
   "execution_count": null,
   "metadata": {},
   "outputs": [],
   "source": [
    "def plot(m, K):\n",
    "    var = np.diag(K).reshape(100, 1)\n",
    "    plt.figure(figsize=(12, 6))\n",
    "    plt.plot(X, Y, 'kx', mew=2)\n",
    "    plt.plot(xx, m, 'C0', lw=2)\n",
    "    plt.fill_between(xx[:,0],\n",
    "                     m[:,0] - 2*np.sqrt(var[:,0]),\n",
    "                     m[:,0] + 2*np.sqrt(var[:,0]),\n",
    "                     color='C0', alpha=0.2)"
   ]
  },
  {
   "cell_type": "code",
   "execution_count": null,
   "metadata": {},
   "outputs": [],
   "source": [
    "plot(mbar, Kbar)\n",
    "N_samp = 1000\n",
    "samps1 = m1.predict_f_samples(xx, N_samp).reshape(N_samp, len(xx))\n",
    "samps2 = m2.predict_f_samples(xx, N_samp).reshape(N_samp, len(xx))\n",
    "notavg = (samps1 + samps2)/2\n",
    "\n",
    "plt.plot(xx, notavg.T, c='g', alpha = 0.1)\n",
    "plt.scatter(X_predict, Y_predict)\n",
    "\n",
    "plt.plot(xx, samps1.T, c = 'y', alpha = 0.01);\n",
    "plt.plot(xx, samps2.T, c = 'r', alpha = 0.01);\n",
    "plt.ylim(-1.0, 5.5)"
   ]
  },
  {
   "cell_type": "code",
   "execution_count": null,
   "metadata": {},
   "outputs": [],
   "source": [
    "Kbar - k1"
   ]
  },
  {
   "cell_type": "markdown",
   "metadata": {},
   "source": [
    "# Now try it with kernels that have different parameters etc"
   ]
  },
  {
   "cell_type": "code",
   "execution_count": null,
   "metadata": {},
   "outputs": [],
   "source": [
    "def plot(m, xx):\n",
    "    mean, var = m.predict_y(xx)\n",
    "    plt.figure(figsize=(12, 6))\n",
    "    plt.plot(X, Y, 'kx', mew=2)\n",
    "    plt.plot(xx, mean, 'C0', lw=2)\n",
    "    plt.fill_between(xx[:,0],\n",
    "                     mean[:,0] - 2*np.sqrt(var[:,0]),\n",
    "                     mean[:,0] + 2*np.sqrt(var[:,0]),\n",
    "                     color='C0', alpha=0.2)\n",
    "#     plt.xlim(-0.1, 1.1)\n",
    "k3 = gpflow.kernels.Matern12(lengthscales=0.1, input_dim = 1) + gpflow.kernels.Periodic(period = 12.0, lengthscales=0.2, input_dim = 1)\n",
    "ktotal3 = k3\n",
    "meanf3 = gpflow.mean_functions.Linear(-10,1)\n",
    "m3 = gpflow.models.GPR(X, Y, ktotal3, meanf3)\n",
    "m3.likelihood.variance = 0.01\n",
    "xx = np.linspace(-0.1, 1.1, 100).reshape(xx.shape[0], 1)\n",
    "plot(m3, xx)\n",
    "plt.scatter(X_predict, Y_predict)"
   ]
  },
  {
   "cell_type": "markdown",
   "metadata": {},
   "source": [
    "Now try to get the barycenter of this model (model 3, which has a very different covariance matrix) and model 1. Now, both the mean and the covariance matrix are different. "
   ]
  },
  {
   "cell_type": "markdown",
   "metadata": {},
   "source": [
    "Model average:"
   ]
  },
  {
   "cell_type": "code",
   "execution_count": null,
   "metadata": {},
   "outputs": [],
   "source": [
    "N_samp = 80\n",
    "samps1 = m1.predict_f_samples(xx, N_samp).reshape(N_samp, len(xx))\n",
    "samps3 = m3.predict_f_samples(xx, N_samp).reshape(N_samp, len(xx))\n",
    "\n",
    "notavg = (samps1 + samps3)/2\n",
    "\n",
    "plt.plot(xx, notavg.T, c='g')\n",
    "plt.scatter(X_predict, Y_predict)\n",
    "\n",
    "plt.plot(xx, samps1.T);\n",
    "plt.plot(xx, samps3.T);"
   ]
  },
  {
   "cell_type": "code",
   "execution_count": null,
   "metadata": {},
   "outputs": [],
   "source": [
    "newxx = np.linspace(-0.1, 1.1, 50).reshape(50, 1)\n",
    "me1, k1 = m1.predict_f_full_cov(xx)\n",
    "k1 = k1.reshape(100, 100)\n",
    "me3, k3 = m3.predict_f_full_cov(xx)\n",
    "k3 = k3.reshape(100, 100)\n",
    "kerns = [k1, k3]\n",
    "# means = \n",
    "mean1, var = m1.predict_y(xx)\n",
    "mean3, var = m3.predict_y(xx)\n",
    "means = [mean1, mean3]"
   ]
  },
  {
   "cell_type": "code",
   "execution_count": null,
   "metadata": {},
   "outputs": [],
   "source": [
    "# Compute the barycenter\n",
    "mbar, Kbar = barycenter(means, kerns, N = 100)"
   ]
  },
  {
   "cell_type": "code",
   "execution_count": null,
   "metadata": {},
   "outputs": [],
   "source": [
    "def plot(m, K):\n",
    "    var = np.diag(K).reshape(100, 1)\n",
    "    plt.figure(figsize=(12, 6))\n",
    "    plt.plot(X, Y, 'kx', mew=2)\n",
    "    plt.plot(xx, m, 'C0', lw=2)\n",
    "    plt.fill_between(xx[:,0],\n",
    "                     m[:,0] - 2*np.sqrt(var[:,0]),\n",
    "                     m[:,0] + 2*np.sqrt(var[:,0]),\n",
    "                     color='C0', alpha=0.2)"
   ]
  },
  {
   "cell_type": "code",
   "execution_count": null,
   "metadata": {},
   "outputs": [],
   "source": [
    "plot(mbar, Kbar)\n",
    "N_samp = 1000\n",
    "samps1 = m1.predict_f_samples(xx, N_samp).reshape(N_samp, len(xx))\n",
    "samps3 = m3.predict_f_samples(xx, N_samp).reshape(N_samp, len(xx))\n",
    "notavg = (samps1 + samps3)/2\n",
    "\n",
    "plt.plot(xx, notavg.T, c='g', alpha = 0.1)\n",
    "plt.scatter(X_predict, Y_predict)\n",
    "\n",
    "plt.plot(xx, samps1.T, c = 'y', alpha = 0.006);\n",
    "plt.plot(xx, samps3.T, c = 'r', alpha = 0.006);\n",
    "plt.ylim(-1.0, 5.5)"
   ]
  },
  {
   "cell_type": "markdown",
   "metadata": {},
   "source": [
    "# The barycenter seems to be the same as the model average, again! "
   ]
  },
  {
   "cell_type": "markdown",
   "metadata": {},
   "source": [
    "This could be due to the fact that they are unimodal? Maybe gaussians are a degenerate case where the barycenter IS the model average. Could try to do with more than one model (try all 3?). "
   ]
  },
  {
   "cell_type": "markdown",
   "metadata": {},
   "source": [
    "# Barycenter all 3 models"
   ]
  },
  {
   "cell_type": "code",
   "execution_count": null,
   "metadata": {},
   "outputs": [],
   "source": [
    "N_samp = 80\n",
    "notavg = (samps1 + samps2 + samps3)/3\n",
    "\n",
    "plt.plot(xx, notavg.T, c='g')\n",
    "plt.scatter(X_predict, Y_predict)\n",
    "\n",
    "plt.plot(xx, samps1.T);\n",
    "plt.plot(xx, samps2.T);\n",
    "plt.plot(xx, samps3.T);"
   ]
  },
  {
   "cell_type": "code",
   "execution_count": null,
   "metadata": {},
   "outputs": [],
   "source": [
    "means = [mean1, mean2, mean3]\n",
    "kerns = [k1, k2, k3]"
   ]
  },
  {
   "cell_type": "code",
   "execution_count": null,
   "metadata": {},
   "outputs": [],
   "source": [
    "def barycenter(means, kerns, N = 100, T=10000):\n",
    "\n",
    "    x = np.linspace(0., 1., N)\n",
    "\n",
    "    xi = 1/len(kerns)\n",
    "\n",
    "    # Calculate the barycenter mean\n",
    "    # mm = lambda dist: np.mean(dist, x)\n",
    "    mbar = sum([xi*meen for meen in means])\n",
    "\n",
    "    # Calculate the barycenter covariance matrix`\n",
    "    Kbar = np.random.rand(N, N)\n",
    "    update = lambda kern, Kbar2, xi: xi * np.sqrt(Kbar2 * kern * Kbar2)\n",
    "\n",
    "    for t in range(1, T):\n",
    "        Kbar2 = np.sqrt(Kbar)\n",
    "        Kbar = np.sum([update(kern, Kbar2, xi) for kern in kerns], axis = 0)\n",
    "    \n",
    "    return mbar, Kbar\n",
    "# Compute the barycenter\n",
    "mbar, Kbar = barycenter(means, kerns, N = 100, T = 40)"
   ]
  },
  {
   "cell_type": "code",
   "execution_count": null,
   "metadata": {},
   "outputs": [],
   "source": [
    "def plot(m, K):\n",
    "    var = np.diag(K).reshape(100, 1)\n",
    "    plt.figure(figsize=(12, 6))\n",
    "    plt.plot(X, Y, 'kx', mew=2)\n",
    "    plt.plot(xx, m, 'C0', lw=2)\n",
    "    plt.fill_between(xx[:,0],\n",
    "                     m[:,0] - 2*np.sqrt(var[:,0]),\n",
    "                     m[:,0] + 2*np.sqrt(var[:,0]),\n",
    "                     color='C0', alpha=0.2)"
   ]
  },
  {
   "cell_type": "code",
   "execution_count": null,
   "metadata": {},
   "outputs": [],
   "source": [
    "plot(mbar, Kbar)\n",
    "N_samp = 1000\n",
    "samps1 = m1.predict_f_samples(xx, N_samp).reshape(N_samp, len(xx))\n",
    "samps2 = m2.predict_f_samples(xx, N_samp).reshape(N_samp, len(xx))\n",
    "samps3 = m3.predict_f_samples(xx, N_samp).reshape(N_samp, len(xx))\n",
    "notavg = (samps1 + samps2 + samps3)/3\n",
    "\n",
    "plt.plot(xx, notavg.T, c='g', alpha = 0.1)\n",
    "plt.scatter(X_predict, Y_predict)\n",
    "\n",
    "plt.plot(xx, samps1.T, c = 'y', alpha = 0.006);\n",
    "plt.plot(xx, samps2.T, c = 'r', alpha = 0.006);\n",
    "plt.plot(xx, samps3.T, c = 'b', alpha = 0.003);\n",
    "plt.ylim(-1.0, 5.5)"
   ]
  },
  {
   "cell_type": "code",
   "execution_count": null,
   "metadata": {},
   "outputs": [],
   "source": [
    "realcov = 1/3 * kerns[0] + 1/3 * kerns[1] + 1/2 * kerns[2]\n",
    "# estimated_cov = np.cov(notavg.T)"
   ]
  },
  {
   "cell_type": "code",
   "execution_count": null,
   "metadata": {},
   "outputs": [],
   "source": [
    "realcov - Kbar"
   ]
  },
  {
   "cell_type": "code",
   "execution_count": null,
   "metadata": {},
   "outputs": [],
   "source": [
    "plt.matshow(Kbar - (k1 + k2 + k3)/3)"
   ]
  },
  {
   "cell_type": "code",
   "execution_count": null,
   "metadata": {},
   "outputs": [],
   "source": [
    "mbar, Kbar = barycenter(means, kerns, N = 100, T = 80000)"
   ]
  },
  {
   "cell_type": "code",
   "execution_count": null,
   "metadata": {},
   "outputs": [],
   "source": [
    "\n",
    "plt.matshow(Kbar - (k1 + k2 + k3)/3)"
   ]
  },
  {
   "cell_type": "markdown",
   "metadata": {},
   "source": [
    "# Try with two vastly different kernels, EQ() vs MA + Periodic(EQ()).:"
   ]
  },
  {
   "cell_type": "code",
   "execution_count": null,
   "metadata": {},
   "outputs": [],
   "source": [
    "# GP 1 with a specific mean function prior\n",
    "\n",
    "k1 = gpflow.kernels.RBF(lengthscales=0.1, input_dim = 1)\n",
    "ktotal = k1\n",
    "meanf1 = gpflow.mean_functions.Linear(10,1)\n",
    "m1 = gpflow.models.GPR(X, Y, ktotal, meanf1)\n",
    "m1.likelihood.variance = 0.01\n",
    "\n",
    "def plot(m, K):\n",
    "    var = np.diag(K).reshape(100, 1)\n",
    "    plt.figure(figsize=(12, 6))\n",
    "    plt.plot(X, Y, 'kx', mew=2)\n",
    "    plt.plot(xx, m, 'C0', lw=2)\n",
    "    plt.fill_between(xx[:,0],\n",
    "                     m[:,0] - 2*np.sqrt(var[:,0]),\n",
    "                     m[:,0] + 2*np.sqrt(var[:,0]),\n",
    "                     color='C0', alpha=0.2)\n",
    "#     plt.xlim(-0.1, 1.1)\n",
    "k3 = gpflow.kernels.Periodic(period = 12.0, lengthscales=0.2, input_dim = 1)\n",
    "ktotal3 = k3\n",
    "meanf3 = gpflow.mean_functions.Linear(-10,1)\n",
    "m3 = gpflow.models.GPR(X, Y, ktotal3, meanf3)\n",
    "m3.likelihood.variance = 0.01\n",
    "xx = np.linspace(-0.1, 1.1, 100).reshape(xx.shape[0], 1)\n",
    "\n",
    "newxx = np.linspace(-0.1, 1.1, 50).reshape(50, 1)\n",
    "me1, k1 = m1.predict_f_full_cov(xx)\n",
    "k1 = k1.reshape(100, 100)\n",
    "me3, k3 = m3.predict_f_full_cov(xx)\n",
    "k3 = k3.reshape(100, 100)\n",
    "kerns = [k1, k3]\n",
    "\n",
    "mean1, var = m1.predict_y(xx)\n",
    "mean3, var = m3.predict_y(xx)\n",
    "means = [mean1, mean3]\n",
    "\n",
    "# Calculate the Barycenter\n",
    "mbar, Kbar = barycenter(means, kerns, N = 100, T = 400)\n"
   ]
  },
  {
   "cell_type": "code",
   "execution_count": null,
   "metadata": {},
   "outputs": [],
   "source": [
    "plot(mbar, Kbar)\n",
    "N_samp = 1000\n",
    "samps1 = m1.predict_f_samples(xx, N_samp).reshape(N_samp, len(xx))\n",
    "samps3 = m3.predict_f_samples(xx, N_samp).reshape(N_samp, len(xx))\n",
    "notavg = (samps1 + samps3)/2\n",
    "\n",
    "plt.plot(xx, notavg.T, c='g', alpha = 0.1)\n",
    "plt.scatter(X_predict, Y_predict)\n",
    "\n",
    "plt.plot(xx, samps1.T, c = 'y', alpha = 0.006);\n",
    "plt.plot(xx, samps3.T, c = 'b', alpha = 0.003);\n",
    "plt.ylim(-1.0, 5.5)"
   ]
  },
  {
   "cell_type": "code",
   "execution_count": null,
   "metadata": {},
   "outputs": [],
   "source": [
    "Kbar - (1/2*k1 + 1/2*k3)"
   ]
  },
  {
   "cell_type": "code",
   "execution_count": null,
   "metadata": {},
   "outputs": [],
   "source": []
  }
 ],
 "metadata": {
  "kernelspec": {
   "display_name": "Python 3",
   "language": "python",
   "name": "python3"
  },
  "language_info": {
   "codemirror_mode": {
    "name": "ipython",
    "version": 3
   },
   "file_extension": ".py",
   "mimetype": "text/x-python",
   "name": "python",
   "nbconvert_exporter": "python",
   "pygments_lexer": "ipython3",
   "version": "3.6.10"
  }
 },
 "nbformat": 4,
 "nbformat_minor": 2
}
